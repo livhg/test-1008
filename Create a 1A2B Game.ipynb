{
 "cells": [
  {
   "cell_type": "markdown",
   "id": "6f718c0c-8231-4325-9faf-c323fcb7f118",
   "metadata": {},
   "source": [
    "# Create a 1A2B Game"
   ]
  },
  {
   "cell_type": "code",
   "execution_count": 50,
   "id": "10100c2c-0da8-4327-9ccc-6b1c2fab4ed0",
   "metadata": {},
   "outputs": [
    {
     "name": "stdout",
     "output_type": "stream",
     "text": [
      "7925\n"
     ]
    }
   ],
   "source": [
    "# Generate a 4-digit secret number\n",
    "import random\n",
    "\n",
    "# Generate a list of digits from 0 to 9\n",
    "digits = list(range(10))\n",
    "\n",
    "# Randomly sample 4 unique digits\n",
    "secret_digits = random.sample(digits, 4)\n",
    "\n",
    "# Combine digits into a single number or string\n",
    "secret_number = ''.join(map(str, secret_digits))\n",
    "\n",
    "print(secret_number)\n"
   ]
  },
  {
   "cell_type": "code",
   "execution_count": 52,
   "id": "e552b4cc-c83a-44aa-a329-3005d985c978",
   "metadata": {},
   "outputs": [],
   "source": [
    "# User inputs a number\n",
    "def user_input():\n",
    "    return input(\"Enter a 4-digit number:\")"
   ]
  },
  {
   "cell_type": "code",
   "execution_count": 53,
   "id": "835219c2-6e7f-4e92-9f6d-53633cd9528d",
   "metadata": {},
   "outputs": [
    {
     "name": "stdin",
     "output_type": "stream",
     "text": [
      "Enter a 4-digit number: 1234\n"
     ]
    },
    {
     "data": {
      "text/plain": [
       "'1234'"
      ]
     },
     "execution_count": 53,
     "metadata": {},
     "output_type": "execute_result"
    }
   ],
   "source": [
    "user_input()"
   ]
  },
  {
   "cell_type": "code",
   "execution_count": 60,
   "id": "5ca3cc9c-25fb-4d1d-b645-8ab656c367f7",
   "metadata": {},
   "outputs": [],
   "source": [
    "# Provide the answer in xAyB format\n",
    "def compare_awswer(secret_number, input_number):\n",
    "    secret_list = list(secret_number)\n",
    "    input_list = list(input_number)\n",
    "    print(secret_list)\n",
    "    print(input_list)\n",
    "\n",
    "    count_a = 0\n",
    "    count_b = 0\n",
    "\n",
    "    for secret_n, input_n in zip(secret_list, input_list):\n",
    "        if secret_n == input_n:\n",
    "            count_a += 1\n",
    "        else:\n",
    "            # check if input_n in secret_list\n",
    "            if input_n in secret_list:\n",
    "                count_b += 1\n",
    "    return count_a, count_b"
   ]
  },
  {
   "cell_type": "code",
   "execution_count": 63,
   "id": "faf3a10b-1edc-4d0d-9734-f79445cceb73",
   "metadata": {},
   "outputs": [
    {
     "name": "stdout",
     "output_type": "stream",
     "text": [
      "['1', '2', '3', '4']\n",
      "['3', '4', '1', '2']\n"
     ]
    },
    {
     "data": {
      "text/plain": [
       "(0, 4)"
      ]
     },
     "execution_count": 63,
     "metadata": {},
     "output_type": "execute_result"
    }
   ],
   "source": [
    "compare_awswer(\"1234\",\"3412\")"
   ]
  },
  {
   "cell_type": "code",
   "execution_count": 71,
   "id": "666343d9-fdea-4127-bd69-cee46973e008",
   "metadata": {},
   "outputs": [
    {
     "name": "stdin",
     "output_type": "stream",
     "text": [
      "Enter a 4-digit number: 1234\n"
     ]
    },
    {
     "name": "stdout",
     "output_type": "stream",
     "text": [
      "['7', '9', '2', '5']\n",
      "['1', '2', '3', '4']\n",
      "A: 0\n",
      "B: 1\n"
     ]
    },
    {
     "name": "stdin",
     "output_type": "stream",
     "text": [
      "Enter a 4-digit number: 2345\n"
     ]
    },
    {
     "name": "stdout",
     "output_type": "stream",
     "text": [
      "['7', '9', '2', '5']\n",
      "['2', '3', '4', '5']\n",
      "A: 1\n",
      "B: 1\n"
     ]
    },
    {
     "name": "stdin",
     "output_type": "stream",
     "text": [
      "Enter a 4-digit number: 7925\n"
     ]
    },
    {
     "name": "stdout",
     "output_type": "stream",
     "text": [
      "['7', '9', '2', '5']\n",
      "['7', '9', '2', '5']\n",
      "A: 4\n",
      "B: 0\n",
      "Game ended!\n",
      "Total attempts: 3\n"
     ]
    }
   ],
   "source": [
    "# Continue play or Game end\n",
    "# Main process\n",
    "\n",
    "# If 4A reach, the game stop\n",
    "attempts = 0\n",
    "A = 0\n",
    "while A != 4:\n",
    "    attempts += 1\n",
    "    # continue\n",
    "    input_number = user_input()\n",
    "    A, B = compare_awswer(secret_number, input_number)\n",
    "    print(\"A:\", A)\n",
    "    print(\"B:\", B)\n",
    "# Game end\n",
    "\n",
    "print(\"Game ended!\")\n",
    "# Print attempts\n",
    "print(\"Total attempts:\", attempts)\n"
   ]
  },
  {
   "cell_type": "code",
   "execution_count": 47,
   "id": "f670d420-ecf9-409a-a274-92ddee484c7d",
   "metadata": {},
   "outputs": [],
   "source": []
  },
  {
   "cell_type": "code",
   "execution_count": null,
   "id": "504e56eb-b13e-4644-be9e-960e970c21c0",
   "metadata": {},
   "outputs": [],
   "source": []
  }
 ],
 "metadata": {
  "kernelspec": {
   "display_name": "Python [conda env:base] *",
   "language": "python",
   "name": "conda-base-py"
  },
  "language_info": {
   "codemirror_mode": {
    "name": "ipython",
    "version": 3
   },
   "file_extension": ".py",
   "mimetype": "text/x-python",
   "name": "python",
   "nbconvert_exporter": "python",
   "pygments_lexer": "ipython3",
   "version": "3.13.5"
  }
 },
 "nbformat": 4,
 "nbformat_minor": 5
}
